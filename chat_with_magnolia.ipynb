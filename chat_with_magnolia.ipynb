{
 "cells": [
  {
   "cell_type": "markdown",
   "id": "bf119c95-015c-425c-b85b-5d07d0fb60a5",
   "metadata": {},
   "source": [
    "# Chat with contents in Magnolia CMS"
   ]
  },
  {
   "cell_type": "markdown",
   "id": "d5b53ad9-0d73-4454-8c71-c388dc6ee598",
   "metadata": {},
   "source": [
    "Implementation of LangChain loader for contents in Magnolia CMS and example of usage to make questions to Magnolia"
   ]
  },
  {
   "cell_type": "markdown",
   "id": "97c3fcf5-91cd-484e-8db6-26ef560c8f22",
   "metadata": {},
   "source": [
    "## 1. Contents Loading"
   ]
  },
  {
   "cell_type": "code",
   "execution_count": null,
   "id": "c029618a-d281-49fc-b66d-9e3fd9648285",
   "metadata": {},
   "outputs": [],
   "source": [
    "# !pip install langchain\n",
    "# !pip install langchain-community"
   ]
  },
  {
   "cell_type": "code",
   "execution_count": null,
   "id": "a9f7cd06-5aff-4c78-9eb1-512cd310e84a",
   "metadata": {},
   "outputs": [],
   "source": [
    "import requests\n",
    "from requests.auth import HTTPBasicAuth\n",
    "import json\n",
    "\n",
    "def fetchMagnoliaContents(url, username, password):\n",
    "    \"\"\"Fetches contents from `Magnolia CMS`\n",
    "    \n",
    "    It lays on restEndpoints defined in Magnolia\n",
    "    \"\"\"\n",
    "    basic = HTTPBasicAuth(username, password)\n",
    "    response = requests.get(url=url, auth=basic)\n",
    "    if not response.ok:\n",
    "        raise NameError(f'Failed to fetch {url} from Magnolia: {response.status_code}')\n",
    "    response.encoding = 'utf-8' # TODO is it necessary to specify encoding? \n",
    "    content = json.loads(response.text)\n",
    "    \n",
    "    return content['results']\n"
   ]
  },
  {
   "cell_type": "code",
   "execution_count": null,
   "id": "f3e12544-7f78-4972-9964-10ab18c7c87d",
   "metadata": {},
   "outputs": [],
   "source": [
    "from langchain_core.documents import Document\n",
    "\n",
    "def createDocumentFromMagnoliaContent(magnoliaContent, contentProperty, url) -> Document:\n",
    "    \"\"\" Creates langchain Document from schema of contents in Magnolia\n",
    "\n",
    "    It maps the schema of Magnolia resEndpoints with langchain Document\n",
    "    \"\"\"\n",
    "    try:\n",
    "        from bs4 import BeautifulSoup\n",
    "    except ImportError:\n",
    "        raise ImportError(\n",
    "                    \"`beautifulsoup4` package not found, please run \"\n",
    "                    \"`pip install beautifulsoup4`\"\n",
    "                )\n",
    "    content = magnoliaContent[contentProperty]\n",
    "    plainTextContent = BeautifulSoup(content).get_text(\n",
    "                    \" \", strip=True\n",
    "                )\n",
    "    \n",
    "    return Document(\n",
    "        page_content=plainTextContent,\n",
    "        metadata={\n",
    "            \"id\": magnoliaContent['@id'],\n",
    "            \"name\": magnoliaContent['@name'],\n",
    "            \"path\": magnoliaContent['@path'],\n",
    "            \"url\": f'{url}{magnoliaContent[\"@path\"]}',\n",
    "            \"nodeType\": magnoliaContent['@nodeType'],\n",
    "            \"lastModified\": magnoliaContent[\"mgnl:lastModifiedBy\"],\n",
    "            \"lastModifiedBy\": magnoliaContent[\"mgnl:lastModified\"]\n",
    "        }\n",
    "    )"
   ]
  },
  {
   "cell_type": "code",
   "execution_count": null,
   "id": "af663329-6cd3-4ab2-92ed-eb9b5a8625c4",
   "metadata": {},
   "outputs": [],
   "source": [
    "from typing import Iterator, List\n",
    "\n",
    "def _lazy_load(url, contentProperty, username, password) -> Iterator[Document]:\n",
    "    magnoliaContents = fetchMagnoliaContents(url=url, username=username, password=password)\n",
    "    for magnoliaContent in magnoliaContents:\n",
    "        yield createDocumentFromMagnoliaContent(magnoliaContent=magnoliaContent, contentProperty=contentProperty, url=url)\n",
    "        \n",
    "def load(url, username, password, contentProperty) -> List[Document]:\n",
    "    \"\"\" Loads documents from a given restEndpoint of Magnolia CMS\n",
    "    url: specifies the url of the endpoint\n",
    "    contentProperty: specifies the property used as source of text for embedding\n",
    "    \"\"\"\n",
    "    return list(_lazy_load(url=url, contentProperty=contentProperty, username=username, password=password))\n",
    "\n",
    "docs = load(\n",
    "    url='http://localhost:8080/.rest/delivery/tours/v1',\n",
    "    username='superuser',\n",
    "    password='superuser',\n",
    "    contentProperty='body'\n",
    ")"
   ]
  },
  {
   "cell_type": "markdown",
   "id": "39691cc0-298d-4b7d-8591-380e7b343f96",
   "metadata": {},
   "source": [
    "## 2. Contents Splitting"
   ]
  },
  {
   "cell_type": "code",
   "execution_count": null,
   "id": "f6f3c818-3588-4933-a295-fc8eeb0ff8ad",
   "metadata": {},
   "outputs": [],
   "source": [
    "from langchain.text_splitter import RecursiveCharacterTextSplitter\n",
    "\n",
    "splitter = RecursiveCharacterTextSplitter(\n",
    "    chunk_size=180,\n",
    "    chunk_overlap=14\n",
    ")\n",
    "\n",
    "chunks = splitter.split_documents(docs)"
   ]
  },
  {
   "cell_type": "markdown",
   "id": "e5cc6795-27ca-4007-9d24-0a3f10b7bb1a",
   "metadata": {},
   "source": [
    "## 3. Contents Embedding and Storage"
   ]
  },
  {
   "cell_type": "code",
   "execution_count": null,
   "id": "5ae31314-8c28-40f2-99f9-fe01d9418c89",
   "metadata": {},
   "outputs": [],
   "source": [
    "from langchain_core.embeddings import Embeddings\n",
    "\n",
    "def createEmbeddingOllama() -> Embeddings:\n",
    "    \"\"\"\n",
    "    Returns Embedding model using local models in Ollama\n",
    "    \"\"\"\n",
    "    return OllamaEmbeddings(\n",
    "        model='nomic-embed-text'\n",
    "    ) # Run `ollama pull nomic-embed-text` to pull down the model"
   ]
  },
  {
   "cell_type": "code",
   "execution_count": null,
   "id": "475f8417-d783-4997-9d12-92417f066ea0",
   "metadata": {},
   "outputs": [],
   "source": [
    "# !pip install -U langchain-openai"
   ]
  },
  {
   "cell_type": "code",
   "execution_count": null,
   "id": "657e7234-e8ae-4a3d-8670-3f0138713802",
   "metadata": {},
   "outputs": [],
   "source": [
    "import getpass\n",
    "import os\n",
    "from langchain_openai import OpenAIEmbeddings\n",
    "\n",
    "def createEmbeddingOpenAI() -> Embeddings:\n",
    "    \"\"\"\n",
    "    Returns Embedding model using OpenAI models\n",
    "    \"\"\"\n",
    "\n",
    "    os.environ[\"OPENAI_API_KEY\"] = getpass.getpass('To continue, specify an OpenAI API Key')\n",
    "    return OpenAIEmbeddings(model='text-embedding-3-small')"
   ]
  },
  {
   "cell_type": "code",
   "execution_count": null,
   "id": "67ec5b32-9ae0-4718-bf64-d36b6b276f35",
   "metadata": {},
   "outputs": [],
   "source": [
    "# !pip install langchain-chroma"
   ]
  },
  {
   "cell_type": "code",
   "execution_count": null,
   "id": "bb1f54e4-8cc9-4285-98cc-d4053036501e",
   "metadata": {},
   "outputs": [],
   "source": [
    "from langchain.vectorstores import Chroma\n",
    "\n",
    "embedding = createEmbeddingOpenAI()\n",
    "\n",
    "vectordb = Chroma.from_documents(\n",
    "    documents=chunks,\n",
    "    embedding=embedding\n",
    ")"
   ]
  },
  {
   "cell_type": "markdown",
   "id": "a264db74-d791-4bec-bf68-586b88cb5769",
   "metadata": {},
   "source": [
    "## 4. Contents Retrieval"
   ]
  },
  {
   "cell_type": "code",
   "execution_count": null,
   "id": "f71cf34b-89b9-4938-8649-70f7f5e89d22",
   "metadata": {},
   "outputs": [],
   "source": [
    "question = \"Find tours for cycling\"\n",
    "similarDocs = vectordb.similarity_search(question,k=5)\n",
    "\n",
    "for doc in similarDocs:\n",
    "    name = doc.metadata[\"name\"]\n",
    "    content = doc.page_content\n",
    "    print(f'{name}')\n",
    "    print(len(name)*'-')\n",
    "    print(f'{content}\\n')"
   ]
  }
 ],
 "metadata": {
  "kernelspec": {
   "display_name": "Python 3 (ipykernel)",
   "language": "python",
   "name": "python3"
  },
  "language_info": {
   "codemirror_mode": {
    "name": "ipython",
    "version": 3
   },
   "file_extension": ".py",
   "mimetype": "text/x-python",
   "name": "python",
   "nbconvert_exporter": "python",
   "pygments_lexer": "ipython3",
   "version": "3.11.1"
  }
 },
 "nbformat": 4,
 "nbformat_minor": 5
}
